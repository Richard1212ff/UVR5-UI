{
  "cells": [
    {
      "cell_type": "markdown",
      "metadata": {
        "id": "view-in-github",
        "colab_type": "text"
      },
      "source": [
        "<a href=\"https://colab.research.google.com/github/Eddycrack864/UVR5-UI/blob/main/UVR_UI.ipynb\" target=\"_parent\"><img src=\"https://colab.research.google.com/assets/colab-badge.svg\" alt=\"Open In Colab\"/></a>"
      ]
    },
    {
      "cell_type": "markdown",
      "source": [
        "# **🎵 UVR5 UI 🎵**"
      ],
      "metadata": {
        "id": "IKsiREVTTMgP"
      }
    },
    {
      "cell_type": "markdown",
      "source": [
        "Colab created by **[Not Eddy (Spanish Mod)](http://discord.com/users/274566299349155851)** in **[AI HUB](https://discord.gg/aihub)** community.\n",
        "\n",
        "<br> **If you liked this colab you can star my repo on [GitHub](https://github.com/Eddycrack864/UVR5-UI).** <br>\n",
        "\n",
        "![](https://count.nett.moe/get/uvr5_ui_colab/img?theme=rule34)"
      ],
      "metadata": {
        "id": "Kx7dJ1-DTQbi"
      }
    },
    {
      "cell_type": "code",
      "source": [
        "#@title # **Installation**\n",
        "#@markdown ####This takes around 2 minutes\n",
        "from IPython.display import clear_output\n",
        "from google.colab import drive\n",
        "import codecs\n",
        "drive.mount('/content/drive', force_remount=True)\n",
        "gitrepo = codecs.decode('uggcf://tvguho.pbz/Rqqlpenpx864/HIE5-HV.tvg','rot_13')\n",
        "repopath = codecs.decode('HIE5-HV/erdhverzragf.gkg','rot_13')\n",
        "!git clone $gitrepo\n",
        "!pip install -r $repopath\n",
        "!python -m pip install ort-nightly-gpu --index-url=https://aiinfra.pkgs.visualstudio.com/PublicPackages/_packaging/ort-cuda-12-nightly/pypi/simple/\n",
        "clear_output()\n",
        "print('Installation done !')"
      ],
      "metadata": {
        "id": "oXYEyNjdWaMm",
        "cellView": "form"
      },
      "execution_count": null,
      "outputs": []
    },
    {
      "cell_type": "code",
      "source": [
        "#@title Run UI\n",
        "import codecs\n",
        "app = codecs.decode('HIE5-HV/ncc.cl','rot_13')\n",
        "!python $app"
      ],
      "metadata": {
        "id": "oltZ5MPsWvXl",
        "cellView": "form"
      },
      "execution_count": null,
      "outputs": []
    }
  ],
  "metadata": {
    "accelerator": "GPU",
    "colab": {
      "gpuType": "T4",
      "provenance": [],
      "private_outputs": true,
      "include_colab_link": true
    },
    "kernelspec": {
      "display_name": "Python 3",
      "name": "python3"
    },
    "language_info": {
      "name": "python"
    }
  },
  "nbformat": 4,
  "nbformat_minor": 0
}